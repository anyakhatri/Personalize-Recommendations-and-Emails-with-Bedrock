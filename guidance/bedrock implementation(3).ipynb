{
 "cells": [
  {
   "cell_type": "markdown",
   "id": "5e0844b9",
   "metadata": {},
   "source": [
    "# Amazon Bedrock for Marketing Campaign\n",
    "\n",
    "Rather than relying on generic, one-size-fits-all product recommendations, Claude in Amazon Bedrock can tailor the recommendations to each customer's unique interests and preferences. This level of personalization helps to make the email content more valuable and interesting to the recipients. Additionally, Claude can dynamically update the recommendations based on new customer data, ensuring the emails remain fresh and relevant over time.\n"
   ]
  },
  {
   "cell_type": "code",
   "execution_count": null,
   "id": "23310a04",
   "metadata": {},
   "outputs": [],
   "source": [
    "import time\n",
    "from time import sleep\n",
    "import json\n",
    "from datetime import datetime\n",
    "import boto3\n",
    "import pandas as pd\n",
    "from io import StringIO\n",
    "import random\n",
    "\n",
    "%store -r\n"
   ]
  },
  {
   "cell_type": "markdown",
   "id": "eebd050d",
   "metadata": {},
   "source": [
    "***Setting up Claude for Personalized Product Recommendations***\n",
    "\n",
    "Here, we setup integration with Amazon Bedrock's Claude AI assistant to generate personalized marketing email content with product recommendations. The generate_personalize_simple_prompt function takes a list of products and parameters for the Claude model, and returns a prompt that can be used to generate a marketing email with personalized product recommendations."
   ]
  },
  {
   "cell_type": "code",
   "execution_count": null,
   "id": "50c5b236",
   "metadata": {},
   "outputs": [],
   "source": [
    "bedrock = boto3.client('bedrock-runtime')\n",
    "\n",
    "# Model parameters\n",
    "model_id = 'anthropic.claude-3-sonnet-20240229-v1:0'\n",
    "max_tokens = 1000\n",
    "\n",
    "\n",
    "\n",
    "def generate_personalize_simple_prompt(product_list, model_id, max_tokens_to_sample=1000):\n",
    "    prompt_template = f'''\n",
    "Human: Write a marketing email advertising several products available in our store, given the product recommendations below. The products to recommend and their information is contained in the <product> tag. Put the email between <email> tags.\n",
    "\n",
    "<product>\n",
    "{product_list}\n",
    "</product>\n",
    "\n",
    "Assistant: Email body:\n",
    "<email>.\n",
    "Assistant:\n",
    "'''\n",
    "    if 'claude' in model_id:\n",
    "        prompt_input = json.dumps({\"prompt\": prompt_template, \"max_tokens\": max_tokens_to_sample, \"anthropic_version\": \"bedrock-2023-05-31\"})\n",
    "    \n",
    "    return prompt_input\n",
    "\n"
   ]
  },
  {
   "cell_type": "markdown",
   "id": "a02a29f1",
   "metadata": {},
   "source": [
    "***Personalized Email Generation***\n",
    "\n",
    "We first group the user recommendations by user ID, creating a DataFrame that associates each user with their recommended items. As we iterate through each user, we use the generated prompt which is populated with recommended items. This is then passed Claude AI model to produce personalized marketing email content for that user. The generated email content is then printed for each user."
   ]
  },
  {
   "cell_type": "code",
   "execution_count": null,
   "id": "f0e11610",
   "metadata": {},
   "outputs": [],
   "source": [
    "def getPersonalizedEmail(bedrock_client, model_id, max_tokens_to_sample, prompt ):\n",
    "    \n",
    "    personalized_email = \"ERROR\"\n",
    "    \n",
    "    body = json.dumps({\n",
    "      \"max_tokens\": max_tokens_to_sample,\n",
    "      \"messages\": [{\"role\": \"user\", \"content\": prompt}],\n",
    "      \"anthropic_version\": \"bedrock-2023-05-31\"\n",
    "    })\n",
    "    \n",
    "    response = bedrock.invoke_model(body=body, modelId=model_id)\n",
    "    \n",
    "    response_body = json.loads(response.get('body').read())  \n",
    "    personalized_email = response_body['content'][0]['text'].strip()\n",
    "\n",
    "    \n",
    "    return personalized_email"
   ]
  },
  {
   "cell_type": "markdown",
   "id": "c292cc31",
   "metadata": {},
   "source": [
    "### Generate Email Template for Users\n",
    "\n",
    "We generate personalized email templates for users based on their unique recommendations. It first groups recommendations by user ID and username, then creates customized email content for each user. Additionally, we can selects a random user to demonstrate a sample personalized email."
   ]
  },
  {
   "cell_type": "code",
   "execution_count": null,
   "id": "554e480f",
   "metadata": {},
   "outputs": [],
   "source": [
    "user_recommendations = recommendations_df.groupby(['USER_ID', 'Username'])['Recommended_Items'].apply(list).reset_index()\n",
    "max_tokens_to_sample = 10000\n",
    "\n",
    "\n",
    "random_row = user_recommendations.sample(1)\n",
    "\n",
    "user_id = random_row['USER_ID'].values[0]\n",
    "username = random_row['Username'].values[0]\n",
    "recommendations = random_row['Recommended_Items'].values[0]\n",
    "\n",
    "# Generate the personalized email content\n",
    "prompt_input_json = generate_personalize_simple_prompt(recommendations, model_id, max_tokens_to_sample)\n",
    "personalized_email = getPersonalizedEmail(bedrock, model_id, max_tokens_to_sample, prompt_input_json)\n",
    "\n",
    "print(f\"User ID: {user_id}\\nUsername: {username}\\nEmail Content:\\n{personalized_email}\\n\")"
   ]
  },
  {
   "cell_type": "code",
   "execution_count": null,
   "id": "de9e9935",
   "metadata": {},
   "outputs": [],
   "source": [
    "emails = []\n",
    "       \n",
    "    \n",
    "for index, row in user_recommendations.iterrows():\n",
    "    user_id = row['USER_ID']\n",
    "    username = row['Username']\n",
    "    recommendations = row['Recommended_Items']\n",
    "        \n",
    "    prompt_input_json = generate_personalize_simple_prompt(recommendations, model_id, max_tokens_to_sample)\n",
    "    personalized_email = getPersonalizedEmail(bedrock, model_id, max_tokens_to_sample, prompt_input_json)  \n",
    "    \n",
    "    print(f\"User ID: {user_id}\\nUsername: {username}\\nEmail Content:\\n{personalized_email}\\n\")\n",
    "\n",
    "     "
   ]
  },
  {
   "cell_type": "code",
   "execution_count": null,
   "id": "e0028bb1",
   "metadata": {},
   "outputs": [],
   "source": [
    "%store personalized_email"
   ]
  }
 ],
 "metadata": {
  "kernelspec": {
   "display_name": "conda_python3",
   "language": "python",
   "name": "conda_python3"
  },
  "language_info": {
   "codemirror_mode": {
    "name": "ipython",
    "version": 3
   },
   "file_extension": ".py",
   "mimetype": "text/x-python",
   "name": "python",
   "nbconvert_exporter": "python",
   "pygments_lexer": "ipython3",
   "version": "3.10.14"
  }
 },
 "nbformat": 4,
 "nbformat_minor": 5
}
