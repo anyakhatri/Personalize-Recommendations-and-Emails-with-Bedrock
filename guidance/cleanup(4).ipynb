{
 "cells": [
  {
   "cell_type": "code",
   "execution_count": null,
   "id": "0e2c5a15",
   "metadata": {},
   "outputs": [],
   "source": [
    "%store -r\n",
    "import time\n"
   ]
  },
  {
   "cell_type": "code",
   "execution_count": null,
   "id": "93a3a713",
   "metadata": {},
   "outputs": [],
   "source": [
    "# Cleanup resources\n",
    "import boto3\n",
    "personalize = boto3.client('personalize')\n",
    "\n",
    "# Delete the campaign\n",
    "personalize.delete_campaign(campaignArn=campaign_arn)\n",
    "time.sleep(300)\n",
    "print(\"delete_campaign done\")\n",
    "\n",
    "# Delete the interaction dataset\n",
    "personalize.delete_dataset(datasetArn=interactions_dataset_arn)\n",
    "time.sleep(30)\n",
    "print(\"delete_dataset done\")\n",
    "\n",
    "# Delete the users dataset\n",
    "personalize.delete_dataset(datasetArn=users_dataset_arn)\n",
    "time.sleep(30)\n",
    "print(\"delete_users_dataset done\")\n",
    "\n",
    "# Delete the items dataset\n",
    "personalize.delete_dataset(datasetArn=items_dataset_arn)\n",
    "time.sleep(30)\n",
    "print(\"delete_items_dataset done\")\n",
    "\n",
    "# Delete the interaction schema\n",
    "personalize.delete_schema(schemaArn=interaction_schema_arn)\n",
    "time.sleep(30)\n",
    "print(\"delete_interaction_schema done\")\n",
    "\n",
    "# Delete the users schema\n",
    "personalize.delete_schema(schemaArn=users_schema_arn)\n",
    "time.sleep(30)\n",
    "print(\"delete_users_schema done\")\n",
    "\n",
    "# Delete the items schema\n",
    "personalize.delete_schema(schemaArn=items_schema_arn)\n",
    "time.sleep(30)\n",
    "print(\"delete_items_schema done\")\n",
    "\n",
    "# Delete the solution\n",
    "personalize.delete_solution(solutionArn=solution_arn)\n",
    "time.sleep(300)\n",
    "print(\"delete_solution done\")\n",
    "\n",
    "# Delete the dataset group\n",
    "personalize.delete_dataset_group(datasetGroupArn=dataset_group_arn)\n",
    "time.sleep(60)\n",
    "print(\"delete_dataset_group done\")\n"
   ]
  },
  {
   "cell_type": "code",
   "execution_count": null,
   "id": "cf1d8742",
   "metadata": {},
   "outputs": [],
   "source": [
    "user_filename = 'user_data.csv'\n",
    "product_filename = 'product_data.csv'\n",
    "interaction_filename = 'interactions.csv'\n",
    "amazon_data_filename = 'amazon_data.csv'\n",
    "\n",
    "\n",
    "s3 = boto3.Session().resource('s3')\n",
    "s3.Bucket(bucket_name).Object(user_filename).delete()\n",
    "print(f\"Deleted {user_filename} from {bucket_name}\")\n",
    "s3.Bucket(bucket_name).Object(product_filename).delete()\n",
    "print(f\"Deleted {product_filename} from {bucket_name}\")\n",
    "s3.Bucket(bucket_name).Object(interaction_filename).delete()\n",
    "print(f\"Deleted {interaction_filename} from {bucket_name}\")\n",
    "s3.Bucket(bucket_name).Object(amazon_data_filename).delete()\n",
    "print(f\"Deleted {amazon_data_filename} from {bucket_name}\")\n"
   ]
  },
  {
   "cell_type": "code",
   "execution_count": null,
   "id": "94d940ae",
   "metadata": {},
   "outputs": [],
   "source": [
    "import boto3\n",
    "dynamodb = boto3.resource('dynamodb')\n",
    "table_names = ['productdata', 'user_recommendations', 'userdata']\n",
    "\n",
    "for table_name in table_names:\n",
    "    table = dynamodb.Table(table_name)\n",
    "    table.delete()\n",
    "    print(f\"Deleted table: {table_name}\")"
   ]
  },
  {
   "cell_type": "code",
   "execution_count": null,
   "id": "48163bd3",
   "metadata": {},
   "outputs": [],
   "source": [
    "# Delete the solution\n",
    "personalize.delete_solution(solutionArn=solution_arn)\n",
    "time.sleep(300)\n",
    "print(\"delete_solution done\")\n",
    "\n",
    "# Delete the dataset group\n",
    "personalize.delete_dataset_group(datasetGroupArn=dataset_group_arn)\n",
    "time.sleep(60)\n",
    "print(\"delete_dataset_group done\")"
   ]
  }
 ],
 "metadata": {
  "kernelspec": {
   "display_name": "Python 3",
   "language": "python",
   "name": "python3"
  },
  "language_info": {
   "codemirror_mode": {
    "name": "ipython",
    "version": 3
   },
   "file_extension": ".py",
   "mimetype": "text/x-python",
   "name": "python",
   "nbconvert_exporter": "python",
   "pygments_lexer": "ipython3",
   "version": "3.9.6"
  }
 },
 "nbformat": 4,
 "nbformat_minor": 5
}
