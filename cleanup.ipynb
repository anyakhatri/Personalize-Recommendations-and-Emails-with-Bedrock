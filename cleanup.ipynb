{
 "cells": [
  {
   "cell_type": "code",
   "execution_count": null,
   "id": "93a3a713",
   "metadata": {},
   "outputs": [],
   "source": [
    "# Delete the campaign\n",
    "personalize.delete_campaign(campaignArn=campaign_arn)\n",
    "time.sleep(300)\n",
    "print(\"delete_campaign done\")\n",
    "# Delete the solution\n",
    "personalize.delete_solution(solutionArn=solution_arn)\n",
    "time.sleep(60)\n",
    "print(\"delete_solution done\")\n",
    "# Delete the interaction dataset\n",
    "personalize.delete_dataset(datasetArn=interactions_dataset_arn)\n",
    "time.sleep(60)\n",
    "print(\"delete_dataset done\")\n",
    "# Delete the schema\n",
    "personalize.delete_schema(schemaArn=interaction_schema_arn)\n",
    "time.sleep(60)\n",
    "print(\"delete_schema done\")\n",
    "# Delete the dataset group\n",
    "personalize.delete_dataset_group(datasetGroupArn = dataset_group_arn)\n",
    "time.sleep(60)\n",
    "print(\"delete_dataset_group done\")"
   ]
  },
  {
   "cell_type": "code",
   "execution_count": null,
   "id": "65e0fe8f",
   "metadata": {},
   "outputs": [],
   "source": [
    "# Empty S3 Bucket\n",
    "boto3.Session().resource('s3').Bucket(bucket_name).Object(interactions_filename).delete()\n",
    "# IAM policies should also be removed\n",
    "iam = boto3.client(\"iam\")\n",
    "iam.detach_role_policy(PolicyArn=\"arn:aws:iam::aws:policy/AmazonS3FullAccess\", RoleName=role_name)\n",
    "iam.detach_role_policy(PolicyArn=\"arn:aws:iam::aws:policy/service-role/AmazonPersonalizeFullAccess\",RoleName=role_name)\n",
    "iam.detach_role_policy(PolicyArn=\"arn:aws:iam::aws:policy/service-role/IAMFullAccess\",RoleName=role_name)\n",
    "iam.delete_role(RoleName=role_name)"
   ]
  },
  {
   "cell_type": "code",
   "execution_count": null,
   "id": "b2a6616e",
   "metadata": {},
   "outputs": [],
   "source": []
  }
 ],
 "metadata": {
  "kernelspec": {
   "display_name": "conda_python3",
   "language": "python",
   "name": "conda_python3"
  },
  "language_info": {
   "codemirror_mode": {
    "name": "ipython",
    "version": 3
   },
   "file_extension": ".py",
   "mimetype": "text/x-python",
   "name": "python",
   "nbconvert_exporter": "python",
   "pygments_lexer": "ipython3",
   "version": "3.10.14"
  }
 },
 "nbformat": 4,
 "nbformat_minor": 5
}
